{
 "cells": [
  {
   "cell_type": "code",
   "execution_count": null,
   "metadata": {},
   "outputs": [
    {
     "ename": "ModuleNotFoundError",
     "evalue": "No module named 'transformers'",
     "output_type": "error",
     "traceback": [
      "\u001b[1;31m---------------------------------------------------------------------------\u001b[0m",
      "\u001b[1;31mModuleNotFoundError\u001b[0m                       Traceback (most recent call last)",
      "Cell \u001b[1;32mIn[2], line 6\u001b[0m\n\u001b[0;32m      4\u001b[0m \u001b[38;5;28;01mfrom\u001b[39;00m \u001b[38;5;21;01mtorchvision\u001b[39;00m\u001b[38;5;21;01m.\u001b[39;00m\u001b[38;5;21;01mutils\u001b[39;00m \u001b[38;5;28;01mimport\u001b[39;00m make_grid \n\u001b[0;32m      5\u001b[0m \u001b[38;5;28;01mimport\u001b[39;00m \u001b[38;5;21;01mnumpy\u001b[39;00m \u001b[38;5;28;01mas\u001b[39;00m \u001b[38;5;21;01mnp\u001b[39;00m\n\u001b[1;32m----> 6\u001b[0m \u001b[38;5;28;01mfrom\u001b[39;00m \u001b[38;5;21;01mtransformers\u001b[39;00m \u001b[38;5;28;01mimport\u001b[39;00m (\n\u001b[0;32m      7\u001b[0m     ViTForImageClassification,\n\u001b[0;32m      8\u001b[0m     ViTImageProcessor, \n\u001b[0;32m      9\u001b[0m     Trainer, \n\u001b[0;32m     10\u001b[0m     TrainingArguments,\n\u001b[0;32m     11\u001b[0m     EarlyStoppingCallback,  \n\u001b[0;32m     12\u001b[0m )\n\u001b[0;32m     13\u001b[0m \u001b[38;5;28;01mfrom\u001b[39;00m \u001b[38;5;21;01mPIL\u001b[39;00m \u001b[38;5;28;01mimport\u001b[39;00m Image \n\u001b[0;32m     14\u001b[0m \u001b[38;5;28;01mimport\u001b[39;00m \u001b[38;5;21;01mmatplotlib\u001b[39;00m\u001b[38;5;21;01m.\u001b[39;00m\u001b[38;5;21;01mpyplot\u001b[39;00m \u001b[38;5;28;01mas\u001b[39;00m \u001b[38;5;21;01mplt\u001b[39;00m \n",
      "\u001b[1;31mModuleNotFoundError\u001b[0m: No module named 'transformers'"
     ]
    }
   ],
   "source": [
    "import os \n",
    "import torch \n",
    "from torch.utils.data import Dataset \n",
    "from torchvision.utils import make_grid \n",
    "import numpy as np\n",
    "from transformers import (\n",
    "    ViTForImageClassification,\n",
    "    ViTImageProcessor, \n",
    "    Trainer, \n",
    "    TrainingArguments,\n",
    "    EarlyStoppingCallback,  \n",
    ")\n",
    "from PIL import Image \n",
    "import matplotlib.pyplot as plt \n"
   ]
  },
  {
   "cell_type": "code",
   "execution_count": 7,
   "metadata": {},
   "outputs": [],
   "source": [
    "class CustomDataset(Dataset):\n",
    "    def __init__(self, data_dir, processor, split = 'train'):\n",
    "        self.data_dir = os.path.join(data_dir, split)\n",
    "        self.processor = processor\n",
    "        self.classes = ['NORMAL','PNEUMONIA']\n",
    "        self.class_to_index = {cls: i for i, cls in enumerate(self.classes)}\n",
    "\n",
    "        self.images = []\n",
    "        self.labels = []\n",
    "        for class_name in self.classes:\n",
    "            class_path = os.path.join(self.data_dir, class_name)\n",
    "            for file in os.listdir(class_path):\n",
    "                if file.endswith('.jpg') or file.endswith('.png') or file.endswith('.jpeg'):\n",
    "                    self.images.append(os.path.join(class_path, file))\n",
    "                    self.labels.append(self.class_to_index[class_name])\n",
    "\n",
    "    def __len__(self):\n",
    "        return len(self.images)\n",
    "    \n",
    "    def __getitem__(self, idx):\n",
    "        image_path = self.images[idx]\n",
    "        image = Image.open(image_path).convert('RGB')\n",
    "        label = self.labels[idx]\n",
    "\n",
    "        encoding = self.processor(image, return_tensors = 'pt')\n",
    "        pixel_values = encoding['pixel_values'].squeeze()\n",
    "\n",
    "        return{\n",
    "            'pixel_values':pixel_values,\n",
    "            'labels': torch.tensor(label, dtype= torch.long)\n",
    "        }\n",
    "    \n"
   ]
  },
  {
   "cell_type": "code",
   "execution_count": null,
   "metadata": {},
   "outputs": [
    {
     "name": "stderr",
     "output_type": "stream",
     "text": [
      "Some weights of ViTForImageClassification were not initialized from the model checkpoint at google/vit-base-patch16-224-in21k and are newly initialized: ['classifier.bias', 'classifier.weight']\n",
      "You should probably TRAIN this model on a down-stream task to be able to use it for predictions and inference.\n"
     ]
    },
    {
     "data": {
      "text/html": [
       "\n",
       "    <div>\n",
       "      \n",
       "      <progress value='20' max='1465' style='width:300px; height:20px; vertical-align: middle;'></progress>\n",
       "      [  20/1465 00:52 < 1:10:26, 0.34 it/s, Epoch 0.06/5]\n",
       "    </div>\n",
       "    <table border=\"1\" class=\"dataframe\">\n",
       "  <thead>\n",
       " <tr style=\"text-align: left;\">\n",
       "      <th>Step</th>\n",
       "      <th>Training Loss</th>\n",
       "      <th>Validation Loss</th>\n",
       "    </tr>\n",
       "  </thead>\n",
       "  <tbody>\n",
       "  </tbody>\n",
       "</table><p>"
      ],
      "text/plain": [
       "<IPython.core.display.HTML object>"
      ]
     },
     "metadata": {},
     "output_type": "display_data"
    }
   ],
   "source": [
    "data_dir = 'data'\n",
    "model_name = 'google/vit-base-patch16-224-in21k'\n",
    "out_dir = './vit-finetuned2'\n",
    "device = 'cuda' if torch.cuda.is_available() else 'cpu'\n",
    "\n",
    "processor = ViTImageProcessor.from_pretrained(model_name)\n",
    "model = ViTForImageClassification.from_pretrained(model_name,\n",
    "                                                  num_labels = 2,\n",
    "                                                  id2label = {0:'NORMAL', 1:'PNEUMONIA',},\n",
    "                                                  label2id = {'NORMAL':0,'PNEUMONIA':1})\n",
    "\n",
    "\n",
    "\n",
    "train_dataset = CustomDataset(data_dir, processor, 'train')\n",
    "val_dataset = CustomDataset(data_dir, processor, 'val')\n",
    "\n",
    "x = CustomDataset(data_dir = data_dir, processor = processor, split = 'train')\n",
    "\n",
    "\n",
    "training_args = TrainingArguments(\n",
    "    output_dir=out_dir,\n",
    "    per_device_train_batch_size=16,\n",
    "    per_device_eval_batch_size= 16,\n",
    "    num_train_epochs= 5, \n",
    "    learning_rate= 5e-5,\n",
    "    weight_decay=0.01,\n",
    "    warmup_steps= 10,\n",
    "    eval_strategy='steps',\n",
    "    eval_steps= 200,\n",
    "    load_best_model_at_end= True,\n",
    "    metric_for_best_model= 'eval_loss',\n",
    "    report_to='none',\n",
    "    data_seed = 42,\n",
    "    fp16=torch.cuda.is_available(),\n",
    "    remove_unused_columns= False,\n",
    "    logging_steps=100,  \n",
    "    logging_strategy='steps',\n",
    "    save_steps = 400,\n",
    "    save_strategy= 'steps'\n",
    "\n",
    ")\n",
    "trainer  = Trainer(\n",
    "    model = model,\n",
    "    args = training_args,\n",
    "    eval_dataset= val_dataset, \n",
    "    train_dataset= train_dataset,\n",
    "    callbacks=[EarlyStoppingCallback(early_stopping_patience=3)] \n",
    ")\n",
    "\n",
    "trainer.train()"
   ]
  }
 ],
 "metadata": {
  "kernelspec": {
   "display_name": "Nursery",
   "language": "python",
   "name": "nursery"
  },
  "language_info": {
   "codemirror_mode": {
    "name": "ipython",
    "version": 3
   },
   "file_extension": ".py",
   "mimetype": "text/x-python",
   "name": "python",
   "nbconvert_exporter": "python",
   "pygments_lexer": "ipython3",
   "version": "3.13.3"
  }
 },
 "nbformat": 4,
 "nbformat_minor": 2
}
